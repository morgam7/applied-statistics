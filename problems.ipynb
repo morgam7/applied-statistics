{
 "cells": [
  {
   "cell_type": "markdown",
   "id": "32b6ee64",
   "metadata": {},
   "source": [
    "# Springboard Data Analytics Assignment\n",
    "\n",
    "**Author:** Marcella Morgan\n",
    "**Image Credit:** Images generated with the help of ChatGPT (OpenAI).\n",
    "![Lady tasting tea + normal curve](images/lady_drinking_tea.png)\n"
   ]
  },
  {
   "cell_type": "markdown",
   "id": "f0ad47f2",
   "metadata": {},
   "source": [
    "## Introduction  \n",
    "\n",
    "In this assignment I’m working through four problems that all use simulation to explore different ideas in statistics.  \n",
    "\n",
    "1. **Lady Tasting Tea (Extended):**  \n",
    "   I’ll extend the classic experiment to 12 cups instead of 8, simulate the chance of guessing correctly, and compare the results to the original setup.  \n",
    "\n",
    "2. **Normal Distribution:**  \n",
    "   I’ll generate lots of small samples from a normal distribution and compare the sample standard deviation (ddof=1) with the population version (ddof=0). The goal is to see the difference on histograms and think about what happens with bigger samples.  \n",
    "\n",
    "3. **t-Tests and Type II Errors:**  \n",
    "   Here I’ll run simulations of t-tests while changing the difference in means. I’ll measure how often the test fails to reject the null when it should (type II errors) and see how that changes as the effect gets stronger.  \n",
    "\n",
    "4. **ANOVA vs t-Tests:**  \n",
    "   I’ll generate three groups with different means and compare running one ANOVA versus doing three separate t-tests. The point is to see why ANOVA is better when looking at more than two groups.  \n",
    "\n",
    "Overall, the assignment is about practicing simulation, interpreting results, and understanding why we choose one statistical test over another.  \n"
   ]
  },
  {
   "cell_type": "markdown",
   "id": "540aa6a0",
   "metadata": {},
   "source": [
    "## Problem 1: Lady Testing Tea"
   ]
  },
  {
   "cell_type": "markdown",
   "id": "1e00aea3",
   "metadata": {},
   "source": [
    "In this section, we replicate and extend the classic Lady Tasting Tea experiment. The original design had 8 cups (4 tea-first, 4 milk-first). By chance, the probability of guessing correctly was small but non-negligible. Here, we increase the challenge by preparing 12 cups (8 tea-first and 4 milk-first). We simulate this setup repeatedly by shuffling the cups, recording how often the participant could identify all cups correctly purely by guessing. We then compare the estimated probability with the original experiment, interpret its implications for statistical power, and reflect on whether one might reasonably tighten or relax the significance threshold (p-value) when moving from the original 8-cup design to this 12-cup version.\n",
    "\n"
   ]
  },
  {
   "cell_type": "markdown",
   "id": "05e4f9f2",
   "metadata": {},
   "source": [
    "### Running the experiment\n",
    "\n",
    "We'll start by running the experiment with 8 cups tea-first and 4 cups milk first."
   ]
  },
  {
   "cell_type": "code",
   "execution_count": 91,
   "id": "b2fbb952",
   "metadata": {},
   "outputs": [
    {
     "data": {
      "text/plain": [
       "'\\n\\n# Number of cups of tea in total.\\nno_cups = 8\\n\\n# Number of cups of tea with milk in first.\\nno_cups_milk_first = 4\\n\\n# Number of cups of tea with tea in first.\\nno_cups_tea_first = 4\\n\\n# Number of ways of selecting four cups from eight.\\nways = math.comb(no_cups, no_cups_milk_first)\\n\\n# Show.\\nways\\n'"
      ]
     },
     "execution_count": 91,
     "metadata": {},
     "output_type": "execute_result"
    }
   ],
   "source": [
    "import numpy as np\n",
    "import math\n",
    "import itertools\n",
    "import random\n",
    "import matplotlib.pyplot as plt\n",
    "\n",
    "\"\"\"\n",
    "\n",
    "# Number of cups of tea in total.\n",
    "no_cups = 8\n",
    "\n",
    "# Number of cups of tea with milk in first.\n",
    "no_cups_milk_first = 4\n",
    "\n",
    "# Number of cups of tea with tea in first.\n",
    "no_cups_tea_first = 4\n",
    "\n",
    "# Number of ways of selecting four cups from eight.\n",
    "ways = math.comb(no_cups, no_cups_milk_first)\n",
    "\n",
    "# Show.\n",
    "ways\n",
    "\"\"\""
   ]
  },
  {
   "cell_type": "markdown",
   "id": "eb86ed80",
   "metadata": {},
   "source": [
    "So the lady has a 1 in 70 chance of randomly choosing the milk first teas. Lets do it now for 12 cups."
   ]
  },
  {
   "cell_type": "code",
   "execution_count": 92,
   "id": "5002767f",
   "metadata": {},
   "outputs": [
    {
     "data": {
      "text/plain": [
       "495"
      ]
     },
     "execution_count": 92,
     "metadata": {},
     "output_type": "execute_result"
    }
   ],
   "source": [
    "# Number of cups of tea in total.\n",
    "no_cups = 12\n",
    "\n",
    "# Number of cups of tea with milk in first.\n",
    "no_cups_milk_first = 8\n",
    "\n",
    "# Number of cups of tea with tea in first.\n",
    "no_cups_tea_first = 4\n",
    "\n",
    "# Number of ways of selecting four cups from eight.\n",
    "ways = math.comb(no_cups, no_cups_milk_first)\n",
    "\n",
    "# Show.\n",
    "ways"
   ]
  },
  {
   "cell_type": "markdown",
   "id": "e711be2b",
   "metadata": {},
   "source": [
    "Lets look at the distribition of results that the lady might get. She might get 4 cups right, 3 cups, 2 or 1 or 0. We can calulate the probability of how many cups she could get right each time she guessed."
   ]
  },
  {
   "cell_type": "code",
   "execution_count": 93,
   "id": "472438ee",
   "metadata": {},
   "outputs": [
    {
     "name": "stdout",
     "output_type": "stream",
     "text": [
      "(0, 1, 2, 3, 4, 5, 6, 7) 2 {4, 5}\n",
      "(0, 1, 2, 3, 4, 5, 6, 8) 3 {8, 4, 5}\n",
      "(0, 1, 2, 3, 4, 5, 6, 9) 2 {4, 5}\n",
      "(0, 1, 2, 3, 4, 5, 6, 10) 3 {10, 4, 5}\n",
      "(0, 1, 2, 3, 4, 5, 6, 11) 2 {4, 5}\n",
      "(0, 1, 2, 3, 4, 5, 7, 8) 3 {8, 4, 5}\n",
      "(0, 1, 2, 3, 4, 5, 7, 9) 2 {4, 5}\n",
      "(0, 1, 2, 3, 4, 5, 7, 10) 3 {10, 4, 5}\n",
      "(0, 1, 2, 3, 4, 5, 7, 11) 2 {4, 5}\n",
      "(0, 1, 2, 3, 4, 5, 8, 9) 3 {8, 4, 5}\n",
      "(0, 1, 2, 3, 4, 5, 8, 10) 4 {8, 10, 4, 5}\n",
      "(0, 1, 2, 3, 4, 5, 8, 11) 3 {8, 4, 5}\n",
      "(0, 1, 2, 3, 4, 5, 9, 10) 3 {10, 4, 5}\n",
      "(0, 1, 2, 3, 4, 5, 9, 11) 2 {4, 5}\n",
      "(0, 1, 2, 3, 4, 5, 10, 11) 3 {10, 4, 5}\n",
      "(0, 1, 2, 3, 4, 6, 7, 8) 2 {8, 4}\n",
      "(0, 1, 2, 3, 4, 6, 7, 9) 1 {4}\n",
      "(0, 1, 2, 3, 4, 6, 7, 10) 2 {10, 4}\n",
      "(0, 1, 2, 3, 4, 6, 7, 11) 1 {4}\n",
      "(0, 1, 2, 3, 4, 6, 8, 9) 2 {8, 4}\n",
      "(0, 1, 2, 3, 4, 6, 8, 10) 3 {8, 10, 4}\n",
      "(0, 1, 2, 3, 4, 6, 8, 11) 2 {8, 4}\n",
      "(0, 1, 2, 3, 4, 6, 9, 10) 2 {10, 4}\n",
      "(0, 1, 2, 3, 4, 6, 9, 11) 1 {4}\n",
      "(0, 1, 2, 3, 4, 6, 10, 11) 2 {10, 4}\n",
      "(0, 1, 2, 3, 4, 7, 8, 9) 2 {8, 4}\n",
      "(0, 1, 2, 3, 4, 7, 8, 10) 3 {8, 10, 4}\n",
      "(0, 1, 2, 3, 4, 7, 8, 11) 2 {8, 4}\n",
      "(0, 1, 2, 3, 4, 7, 9, 10) 2 {10, 4}\n",
      "(0, 1, 2, 3, 4, 7, 9, 11) 1 {4}\n",
      "(0, 1, 2, 3, 4, 7, 10, 11) 2 {10, 4}\n",
      "(0, 1, 2, 3, 4, 8, 9, 10) 3 {8, 10, 4}\n",
      "(0, 1, 2, 3, 4, 8, 9, 11) 2 {8, 4}\n",
      "(0, 1, 2, 3, 4, 8, 10, 11) 3 {8, 10, 4}\n",
      "(0, 1, 2, 3, 4, 9, 10, 11) 2 {10, 4}\n",
      "(0, 1, 2, 3, 5, 6, 7, 8) 2 {8, 5}\n",
      "(0, 1, 2, 3, 5, 6, 7, 9) 1 {5}\n",
      "(0, 1, 2, 3, 5, 6, 7, 10) 2 {10, 5}\n",
      "(0, 1, 2, 3, 5, 6, 7, 11) 1 {5}\n",
      "(0, 1, 2, 3, 5, 6, 8, 9) 2 {8, 5}\n",
      "(0, 1, 2, 3, 5, 6, 8, 10) 3 {8, 10, 5}\n",
      "(0, 1, 2, 3, 5, 6, 8, 11) 2 {8, 5}\n",
      "(0, 1, 2, 3, 5, 6, 9, 10) 2 {10, 5}\n",
      "(0, 1, 2, 3, 5, 6, 9, 11) 1 {5}\n",
      "(0, 1, 2, 3, 5, 6, 10, 11) 2 {10, 5}\n",
      "(0, 1, 2, 3, 5, 7, 8, 9) 2 {8, 5}\n",
      "(0, 1, 2, 3, 5, 7, 8, 10) 3 {8, 10, 5}\n",
      "(0, 1, 2, 3, 5, 7, 8, 11) 2 {8, 5}\n",
      "(0, 1, 2, 3, 5, 7, 9, 10) 2 {10, 5}\n",
      "(0, 1, 2, 3, 5, 7, 9, 11) 1 {5}\n",
      "(0, 1, 2, 3, 5, 7, 10, 11) 2 {10, 5}\n",
      "(0, 1, 2, 3, 5, 8, 9, 10) 3 {8, 10, 5}\n",
      "(0, 1, 2, 3, 5, 8, 9, 11) 2 {8, 5}\n",
      "(0, 1, 2, 3, 5, 8, 10, 11) 3 {8, 10, 5}\n",
      "(0, 1, 2, 3, 5, 9, 10, 11) 2 {10, 5}\n",
      "(0, 1, 2, 3, 6, 7, 8, 9) 1 {8}\n",
      "(0, 1, 2, 3, 6, 7, 8, 10) 2 {8, 10}\n",
      "(0, 1, 2, 3, 6, 7, 8, 11) 1 {8}\n",
      "(0, 1, 2, 3, 6, 7, 9, 10) 1 {10}\n",
      "(0, 1, 2, 3, 6, 7, 9, 11) 0 set()\n",
      "(0, 1, 2, 3, 6, 7, 10, 11) 1 {10}\n",
      "(0, 1, 2, 3, 6, 8, 9, 10) 2 {8, 10}\n",
      "(0, 1, 2, 3, 6, 8, 9, 11) 1 {8}\n",
      "(0, 1, 2, 3, 6, 8, 10, 11) 2 {8, 10}\n",
      "(0, 1, 2, 3, 6, 9, 10, 11) 1 {10}\n",
      "(0, 1, 2, 3, 7, 8, 9, 10) 2 {8, 10}\n",
      "(0, 1, 2, 3, 7, 8, 9, 11) 1 {8}\n",
      "(0, 1, 2, 3, 7, 8, 10, 11) 2 {8, 10}\n",
      "(0, 1, 2, 3, 7, 9, 10, 11) 1 {10}\n",
      "(0, 1, 2, 3, 8, 9, 10, 11) 2 {8, 10}\n",
      "(0, 1, 2, 4, 5, 6, 7, 8) 3 {8, 4, 5}\n",
      "(0, 1, 2, 4, 5, 6, 7, 9) 2 {4, 5}\n",
      "(0, 1, 2, 4, 5, 6, 7, 10) 3 {10, 4, 5}\n",
      "(0, 1, 2, 4, 5, 6, 7, 11) 2 {4, 5}\n",
      "(0, 1, 2, 4, 5, 6, 8, 9) 3 {8, 4, 5}\n",
      "(0, 1, 2, 4, 5, 6, 8, 10) 4 {8, 10, 4, 5}\n",
      "(0, 1, 2, 4, 5, 6, 8, 11) 3 {8, 4, 5}\n",
      "(0, 1, 2, 4, 5, 6, 9, 10) 3 {10, 4, 5}\n",
      "(0, 1, 2, 4, 5, 6, 9, 11) 2 {4, 5}\n",
      "(0, 1, 2, 4, 5, 6, 10, 11) 3 {10, 4, 5}\n",
      "(0, 1, 2, 4, 5, 7, 8, 9) 3 {8, 4, 5}\n",
      "(0, 1, 2, 4, 5, 7, 8, 10) 4 {8, 10, 4, 5}\n",
      "(0, 1, 2, 4, 5, 7, 8, 11) 3 {8, 4, 5}\n",
      "(0, 1, 2, 4, 5, 7, 9, 10) 3 {10, 4, 5}\n",
      "(0, 1, 2, 4, 5, 7, 9, 11) 2 {4, 5}\n",
      "(0, 1, 2, 4, 5, 7, 10, 11) 3 {10, 4, 5}\n",
      "(0, 1, 2, 4, 5, 8, 9, 10) 4 {8, 10, 4, 5}\n",
      "(0, 1, 2, 4, 5, 8, 9, 11) 3 {8, 4, 5}\n",
      "(0, 1, 2, 4, 5, 8, 10, 11) 4 {8, 10, 4, 5}\n",
      "(0, 1, 2, 4, 5, 9, 10, 11) 3 {10, 4, 5}\n",
      "(0, 1, 2, 4, 6, 7, 8, 9) 2 {8, 4}\n",
      "(0, 1, 2, 4, 6, 7, 8, 10) 3 {8, 10, 4}\n",
      "(0, 1, 2, 4, 6, 7, 8, 11) 2 {8, 4}\n",
      "(0, 1, 2, 4, 6, 7, 9, 10) 2 {10, 4}\n",
      "(0, 1, 2, 4, 6, 7, 9, 11) 1 {4}\n",
      "(0, 1, 2, 4, 6, 7, 10, 11) 2 {10, 4}\n",
      "(0, 1, 2, 4, 6, 8, 9, 10) 3 {8, 10, 4}\n",
      "(0, 1, 2, 4, 6, 8, 9, 11) 2 {8, 4}\n",
      "(0, 1, 2, 4, 6, 8, 10, 11) 3 {8, 10, 4}\n",
      "(0, 1, 2, 4, 6, 9, 10, 11) 2 {10, 4}\n",
      "(0, 1, 2, 4, 7, 8, 9, 10) 3 {8, 10, 4}\n",
      "(0, 1, 2, 4, 7, 8, 9, 11) 2 {8, 4}\n",
      "(0, 1, 2, 4, 7, 8, 10, 11) 3 {8, 10, 4}\n",
      "(0, 1, 2, 4, 7, 9, 10, 11) 2 {10, 4}\n",
      "(0, 1, 2, 4, 8, 9, 10, 11) 3 {8, 10, 4}\n",
      "(0, 1, 2, 5, 6, 7, 8, 9) 2 {8, 5}\n",
      "(0, 1, 2, 5, 6, 7, 8, 10) 3 {8, 10, 5}\n",
      "(0, 1, 2, 5, 6, 7, 8, 11) 2 {8, 5}\n",
      "(0, 1, 2, 5, 6, 7, 9, 10) 2 {10, 5}\n",
      "(0, 1, 2, 5, 6, 7, 9, 11) 1 {5}\n",
      "(0, 1, 2, 5, 6, 7, 10, 11) 2 {10, 5}\n",
      "(0, 1, 2, 5, 6, 8, 9, 10) 3 {8, 10, 5}\n",
      "(0, 1, 2, 5, 6, 8, 9, 11) 2 {8, 5}\n",
      "(0, 1, 2, 5, 6, 8, 10, 11) 3 {8, 10, 5}\n",
      "(0, 1, 2, 5, 6, 9, 10, 11) 2 {10, 5}\n",
      "(0, 1, 2, 5, 7, 8, 9, 10) 3 {8, 10, 5}\n",
      "(0, 1, 2, 5, 7, 8, 9, 11) 2 {8, 5}\n",
      "(0, 1, 2, 5, 7, 8, 10, 11) 3 {8, 10, 5}\n",
      "(0, 1, 2, 5, 7, 9, 10, 11) 2 {10, 5}\n",
      "(0, 1, 2, 5, 8, 9, 10, 11) 3 {8, 10, 5}\n",
      "(0, 1, 2, 6, 7, 8, 9, 10) 2 {8, 10}\n",
      "(0, 1, 2, 6, 7, 8, 9, 11) 1 {8}\n",
      "(0, 1, 2, 6, 7, 8, 10, 11) 2 {8, 10}\n",
      "(0, 1, 2, 6, 7, 9, 10, 11) 1 {10}\n",
      "(0, 1, 2, 6, 8, 9, 10, 11) 2 {8, 10}\n",
      "(0, 1, 2, 7, 8, 9, 10, 11) 2 {8, 10}\n",
      "(0, 1, 3, 4, 5, 6, 7, 8) 3 {8, 4, 5}\n",
      "(0, 1, 3, 4, 5, 6, 7, 9) 2 {4, 5}\n",
      "(0, 1, 3, 4, 5, 6, 7, 10) 3 {10, 4, 5}\n",
      "(0, 1, 3, 4, 5, 6, 7, 11) 2 {4, 5}\n",
      "(0, 1, 3, 4, 5, 6, 8, 9) 3 {8, 4, 5}\n",
      "(0, 1, 3, 4, 5, 6, 8, 10) 4 {8, 10, 4, 5}\n",
      "(0, 1, 3, 4, 5, 6, 8, 11) 3 {8, 4, 5}\n",
      "(0, 1, 3, 4, 5, 6, 9, 10) 3 {10, 4, 5}\n",
      "(0, 1, 3, 4, 5, 6, 9, 11) 2 {4, 5}\n",
      "(0, 1, 3, 4, 5, 6, 10, 11) 3 {10, 4, 5}\n",
      "(0, 1, 3, 4, 5, 7, 8, 9) 3 {8, 4, 5}\n",
      "(0, 1, 3, 4, 5, 7, 8, 10) 4 {8, 10, 4, 5}\n",
      "(0, 1, 3, 4, 5, 7, 8, 11) 3 {8, 4, 5}\n",
      "(0, 1, 3, 4, 5, 7, 9, 10) 3 {10, 4, 5}\n",
      "(0, 1, 3, 4, 5, 7, 9, 11) 2 {4, 5}\n",
      "(0, 1, 3, 4, 5, 7, 10, 11) 3 {10, 4, 5}\n",
      "(0, 1, 3, 4, 5, 8, 9, 10) 4 {8, 10, 4, 5}\n",
      "(0, 1, 3, 4, 5, 8, 9, 11) 3 {8, 4, 5}\n",
      "(0, 1, 3, 4, 5, 8, 10, 11) 4 {8, 10, 4, 5}\n",
      "(0, 1, 3, 4, 5, 9, 10, 11) 3 {10, 4, 5}\n",
      "(0, 1, 3, 4, 6, 7, 8, 9) 2 {8, 4}\n",
      "(0, 1, 3, 4, 6, 7, 8, 10) 3 {8, 10, 4}\n",
      "(0, 1, 3, 4, 6, 7, 8, 11) 2 {8, 4}\n",
      "(0, 1, 3, 4, 6, 7, 9, 10) 2 {10, 4}\n",
      "(0, 1, 3, 4, 6, 7, 9, 11) 1 {4}\n",
      "(0, 1, 3, 4, 6, 7, 10, 11) 2 {10, 4}\n",
      "(0, 1, 3, 4, 6, 8, 9, 10) 3 {8, 10, 4}\n",
      "(0, 1, 3, 4, 6, 8, 9, 11) 2 {8, 4}\n",
      "(0, 1, 3, 4, 6, 8, 10, 11) 3 {8, 10, 4}\n",
      "(0, 1, 3, 4, 6, 9, 10, 11) 2 {10, 4}\n",
      "(0, 1, 3, 4, 7, 8, 9, 10) 3 {8, 10, 4}\n",
      "(0, 1, 3, 4, 7, 8, 9, 11) 2 {8, 4}\n",
      "(0, 1, 3, 4, 7, 8, 10, 11) 3 {8, 10, 4}\n",
      "(0, 1, 3, 4, 7, 9, 10, 11) 2 {10, 4}\n",
      "(0, 1, 3, 4, 8, 9, 10, 11) 3 {8, 10, 4}\n",
      "(0, 1, 3, 5, 6, 7, 8, 9) 2 {8, 5}\n",
      "(0, 1, 3, 5, 6, 7, 8, 10) 3 {8, 10, 5}\n",
      "(0, 1, 3, 5, 6, 7, 8, 11) 2 {8, 5}\n",
      "(0, 1, 3, 5, 6, 7, 9, 10) 2 {10, 5}\n",
      "(0, 1, 3, 5, 6, 7, 9, 11) 1 {5}\n",
      "(0, 1, 3, 5, 6, 7, 10, 11) 2 {10, 5}\n",
      "(0, 1, 3, 5, 6, 8, 9, 10) 3 {8, 10, 5}\n",
      "(0, 1, 3, 5, 6, 8, 9, 11) 2 {8, 5}\n",
      "(0, 1, 3, 5, 6, 8, 10, 11) 3 {8, 10, 5}\n",
      "(0, 1, 3, 5, 6, 9, 10, 11) 2 {10, 5}\n",
      "(0, 1, 3, 5, 7, 8, 9, 10) 3 {8, 10, 5}\n",
      "(0, 1, 3, 5, 7, 8, 9, 11) 2 {8, 5}\n",
      "(0, 1, 3, 5, 7, 8, 10, 11) 3 {8, 10, 5}\n",
      "(0, 1, 3, 5, 7, 9, 10, 11) 2 {10, 5}\n",
      "(0, 1, 3, 5, 8, 9, 10, 11) 3 {8, 10, 5}\n",
      "(0, 1, 3, 6, 7, 8, 9, 10) 2 {8, 10}\n",
      "(0, 1, 3, 6, 7, 8, 9, 11) 1 {8}\n",
      "(0, 1, 3, 6, 7, 8, 10, 11) 2 {8, 10}\n",
      "(0, 1, 3, 6, 7, 9, 10, 11) 1 {10}\n",
      "(0, 1, 3, 6, 8, 9, 10, 11) 2 {8, 10}\n",
      "(0, 1, 3, 7, 8, 9, 10, 11) 2 {8, 10}\n",
      "(0, 1, 4, 5, 6, 7, 8, 9) 3 {8, 4, 5}\n",
      "(0, 1, 4, 5, 6, 7, 8, 10) 4 {8, 10, 4, 5}\n",
      "(0, 1, 4, 5, 6, 7, 8, 11) 3 {8, 4, 5}\n",
      "(0, 1, 4, 5, 6, 7, 9, 10) 3 {10, 4, 5}\n",
      "(0, 1, 4, 5, 6, 7, 9, 11) 2 {4, 5}\n",
      "(0, 1, 4, 5, 6, 7, 10, 11) 3 {10, 4, 5}\n",
      "(0, 1, 4, 5, 6, 8, 9, 10) 4 {8, 10, 4, 5}\n",
      "(0, 1, 4, 5, 6, 8, 9, 11) 3 {8, 4, 5}\n",
      "(0, 1, 4, 5, 6, 8, 10, 11) 4 {8, 10, 4, 5}\n",
      "(0, 1, 4, 5, 6, 9, 10, 11) 3 {10, 4, 5}\n",
      "(0, 1, 4, 5, 7, 8, 9, 10) 4 {8, 10, 4, 5}\n",
      "(0, 1, 4, 5, 7, 8, 9, 11) 3 {8, 4, 5}\n",
      "(0, 1, 4, 5, 7, 8, 10, 11) 4 {8, 10, 4, 5}\n",
      "(0, 1, 4, 5, 7, 9, 10, 11) 3 {10, 4, 5}\n",
      "(0, 1, 4, 5, 8, 9, 10, 11) 4 {8, 10, 4, 5}\n",
      "(0, 1, 4, 6, 7, 8, 9, 10) 3 {8, 10, 4}\n",
      "(0, 1, 4, 6, 7, 8, 9, 11) 2 {8, 4}\n",
      "(0, 1, 4, 6, 7, 8, 10, 11) 3 {8, 10, 4}\n",
      "(0, 1, 4, 6, 7, 9, 10, 11) 2 {10, 4}\n",
      "(0, 1, 4, 6, 8, 9, 10, 11) 3 {8, 10, 4}\n",
      "(0, 1, 4, 7, 8, 9, 10, 11) 3 {8, 10, 4}\n",
      "(0, 1, 5, 6, 7, 8, 9, 10) 3 {8, 10, 5}\n",
      "(0, 1, 5, 6, 7, 8, 9, 11) 2 {8, 5}\n",
      "(0, 1, 5, 6, 7, 8, 10, 11) 3 {8, 10, 5}\n",
      "(0, 1, 5, 6, 7, 9, 10, 11) 2 {10, 5}\n",
      "(0, 1, 5, 6, 8, 9, 10, 11) 3 {8, 10, 5}\n",
      "(0, 1, 5, 7, 8, 9, 10, 11) 3 {8, 10, 5}\n",
      "(0, 1, 6, 7, 8, 9, 10, 11) 2 {8, 10}\n",
      "(0, 2, 3, 4, 5, 6, 7, 8) 3 {8, 4, 5}\n",
      "(0, 2, 3, 4, 5, 6, 7, 9) 2 {4, 5}\n",
      "(0, 2, 3, 4, 5, 6, 7, 10) 3 {10, 4, 5}\n",
      "(0, 2, 3, 4, 5, 6, 7, 11) 2 {4, 5}\n",
      "(0, 2, 3, 4, 5, 6, 8, 9) 3 {8, 4, 5}\n",
      "(0, 2, 3, 4, 5, 6, 8, 10) 4 {8, 10, 4, 5}\n",
      "(0, 2, 3, 4, 5, 6, 8, 11) 3 {8, 4, 5}\n",
      "(0, 2, 3, 4, 5, 6, 9, 10) 3 {10, 4, 5}\n",
      "(0, 2, 3, 4, 5, 6, 9, 11) 2 {4, 5}\n",
      "(0, 2, 3, 4, 5, 6, 10, 11) 3 {10, 4, 5}\n",
      "(0, 2, 3, 4, 5, 7, 8, 9) 3 {8, 4, 5}\n",
      "(0, 2, 3, 4, 5, 7, 8, 10) 4 {8, 10, 4, 5}\n",
      "(0, 2, 3, 4, 5, 7, 8, 11) 3 {8, 4, 5}\n",
      "(0, 2, 3, 4, 5, 7, 9, 10) 3 {10, 4, 5}\n",
      "(0, 2, 3, 4, 5, 7, 9, 11) 2 {4, 5}\n",
      "(0, 2, 3, 4, 5, 7, 10, 11) 3 {10, 4, 5}\n",
      "(0, 2, 3, 4, 5, 8, 9, 10) 4 {8, 10, 4, 5}\n",
      "(0, 2, 3, 4, 5, 8, 9, 11) 3 {8, 4, 5}\n",
      "(0, 2, 3, 4, 5, 8, 10, 11) 4 {8, 10, 4, 5}\n",
      "(0, 2, 3, 4, 5, 9, 10, 11) 3 {10, 4, 5}\n",
      "(0, 2, 3, 4, 6, 7, 8, 9) 2 {8, 4}\n",
      "(0, 2, 3, 4, 6, 7, 8, 10) 3 {8, 10, 4}\n",
      "(0, 2, 3, 4, 6, 7, 8, 11) 2 {8, 4}\n",
      "(0, 2, 3, 4, 6, 7, 9, 10) 2 {10, 4}\n",
      "(0, 2, 3, 4, 6, 7, 9, 11) 1 {4}\n",
      "(0, 2, 3, 4, 6, 7, 10, 11) 2 {10, 4}\n",
      "(0, 2, 3, 4, 6, 8, 9, 10) 3 {8, 10, 4}\n",
      "(0, 2, 3, 4, 6, 8, 9, 11) 2 {8, 4}\n",
      "(0, 2, 3, 4, 6, 8, 10, 11) 3 {8, 10, 4}\n",
      "(0, 2, 3, 4, 6, 9, 10, 11) 2 {10, 4}\n",
      "(0, 2, 3, 4, 7, 8, 9, 10) 3 {8, 10, 4}\n",
      "(0, 2, 3, 4, 7, 8, 9, 11) 2 {8, 4}\n",
      "(0, 2, 3, 4, 7, 8, 10, 11) 3 {8, 10, 4}\n",
      "(0, 2, 3, 4, 7, 9, 10, 11) 2 {10, 4}\n",
      "(0, 2, 3, 4, 8, 9, 10, 11) 3 {8, 10, 4}\n",
      "(0, 2, 3, 5, 6, 7, 8, 9) 2 {8, 5}\n",
      "(0, 2, 3, 5, 6, 7, 8, 10) 3 {8, 10, 5}\n",
      "(0, 2, 3, 5, 6, 7, 8, 11) 2 {8, 5}\n",
      "(0, 2, 3, 5, 6, 7, 9, 10) 2 {10, 5}\n",
      "(0, 2, 3, 5, 6, 7, 9, 11) 1 {5}\n",
      "(0, 2, 3, 5, 6, 7, 10, 11) 2 {10, 5}\n",
      "(0, 2, 3, 5, 6, 8, 9, 10) 3 {8, 10, 5}\n",
      "(0, 2, 3, 5, 6, 8, 9, 11) 2 {8, 5}\n",
      "(0, 2, 3, 5, 6, 8, 10, 11) 3 {8, 10, 5}\n",
      "(0, 2, 3, 5, 6, 9, 10, 11) 2 {10, 5}\n",
      "(0, 2, 3, 5, 7, 8, 9, 10) 3 {8, 10, 5}\n",
      "(0, 2, 3, 5, 7, 8, 9, 11) 2 {8, 5}\n",
      "(0, 2, 3, 5, 7, 8, 10, 11) 3 {8, 10, 5}\n",
      "(0, 2, 3, 5, 7, 9, 10, 11) 2 {10, 5}\n",
      "(0, 2, 3, 5, 8, 9, 10, 11) 3 {8, 10, 5}\n",
      "(0, 2, 3, 6, 7, 8, 9, 10) 2 {8, 10}\n",
      "(0, 2, 3, 6, 7, 8, 9, 11) 1 {8}\n",
      "(0, 2, 3, 6, 7, 8, 10, 11) 2 {8, 10}\n",
      "(0, 2, 3, 6, 7, 9, 10, 11) 1 {10}\n",
      "(0, 2, 3, 6, 8, 9, 10, 11) 2 {8, 10}\n",
      "(0, 2, 3, 7, 8, 9, 10, 11) 2 {8, 10}\n",
      "(0, 2, 4, 5, 6, 7, 8, 9) 3 {8, 4, 5}\n",
      "(0, 2, 4, 5, 6, 7, 8, 10) 4 {8, 10, 4, 5}\n",
      "(0, 2, 4, 5, 6, 7, 8, 11) 3 {8, 4, 5}\n",
      "(0, 2, 4, 5, 6, 7, 9, 10) 3 {10, 4, 5}\n",
      "(0, 2, 4, 5, 6, 7, 9, 11) 2 {4, 5}\n",
      "(0, 2, 4, 5, 6, 7, 10, 11) 3 {10, 4, 5}\n",
      "(0, 2, 4, 5, 6, 8, 9, 10) 4 {8, 10, 4, 5}\n",
      "(0, 2, 4, 5, 6, 8, 9, 11) 3 {8, 4, 5}\n",
      "(0, 2, 4, 5, 6, 8, 10, 11) 4 {8, 10, 4, 5}\n",
      "(0, 2, 4, 5, 6, 9, 10, 11) 3 {10, 4, 5}\n",
      "(0, 2, 4, 5, 7, 8, 9, 10) 4 {8, 10, 4, 5}\n",
      "(0, 2, 4, 5, 7, 8, 9, 11) 3 {8, 4, 5}\n",
      "(0, 2, 4, 5, 7, 8, 10, 11) 4 {8, 10, 4, 5}\n",
      "(0, 2, 4, 5, 7, 9, 10, 11) 3 {10, 4, 5}\n",
      "(0, 2, 4, 5, 8, 9, 10, 11) 4 {8, 10, 4, 5}\n",
      "(0, 2, 4, 6, 7, 8, 9, 10) 3 {8, 10, 4}\n",
      "(0, 2, 4, 6, 7, 8, 9, 11) 2 {8, 4}\n",
      "(0, 2, 4, 6, 7, 8, 10, 11) 3 {8, 10, 4}\n",
      "(0, 2, 4, 6, 7, 9, 10, 11) 2 {10, 4}\n",
      "(0, 2, 4, 6, 8, 9, 10, 11) 3 {8, 10, 4}\n",
      "(0, 2, 4, 7, 8, 9, 10, 11) 3 {8, 10, 4}\n",
      "(0, 2, 5, 6, 7, 8, 9, 10) 3 {8, 10, 5}\n",
      "(0, 2, 5, 6, 7, 8, 9, 11) 2 {8, 5}\n",
      "(0, 2, 5, 6, 7, 8, 10, 11) 3 {8, 10, 5}\n",
      "(0, 2, 5, 6, 7, 9, 10, 11) 2 {10, 5}\n",
      "(0, 2, 5, 6, 8, 9, 10, 11) 3 {8, 10, 5}\n",
      "(0, 2, 5, 7, 8, 9, 10, 11) 3 {8, 10, 5}\n",
      "(0, 2, 6, 7, 8, 9, 10, 11) 2 {8, 10}\n",
      "(0, 3, 4, 5, 6, 7, 8, 9) 3 {8, 4, 5}\n",
      "(0, 3, 4, 5, 6, 7, 8, 10) 4 {8, 10, 4, 5}\n",
      "(0, 3, 4, 5, 6, 7, 8, 11) 3 {8, 4, 5}\n",
      "(0, 3, 4, 5, 6, 7, 9, 10) 3 {10, 4, 5}\n",
      "(0, 3, 4, 5, 6, 7, 9, 11) 2 {4, 5}\n",
      "(0, 3, 4, 5, 6, 7, 10, 11) 3 {10, 4, 5}\n",
      "(0, 3, 4, 5, 6, 8, 9, 10) 4 {8, 10, 4, 5}\n",
      "(0, 3, 4, 5, 6, 8, 9, 11) 3 {8, 4, 5}\n",
      "(0, 3, 4, 5, 6, 8, 10, 11) 4 {8, 10, 4, 5}\n",
      "(0, 3, 4, 5, 6, 9, 10, 11) 3 {10, 4, 5}\n",
      "(0, 3, 4, 5, 7, 8, 9, 10) 4 {8, 10, 4, 5}\n",
      "(0, 3, 4, 5, 7, 8, 9, 11) 3 {8, 4, 5}\n",
      "(0, 3, 4, 5, 7, 8, 10, 11) 4 {8, 10, 4, 5}\n",
      "(0, 3, 4, 5, 7, 9, 10, 11) 3 {10, 4, 5}\n",
      "(0, 3, 4, 5, 8, 9, 10, 11) 4 {8, 10, 4, 5}\n",
      "(0, 3, 4, 6, 7, 8, 9, 10) 3 {8, 10, 4}\n",
      "(0, 3, 4, 6, 7, 8, 9, 11) 2 {8, 4}\n",
      "(0, 3, 4, 6, 7, 8, 10, 11) 3 {8, 10, 4}\n",
      "(0, 3, 4, 6, 7, 9, 10, 11) 2 {10, 4}\n",
      "(0, 3, 4, 6, 8, 9, 10, 11) 3 {8, 10, 4}\n",
      "(0, 3, 4, 7, 8, 9, 10, 11) 3 {8, 10, 4}\n",
      "(0, 3, 5, 6, 7, 8, 9, 10) 3 {8, 10, 5}\n",
      "(0, 3, 5, 6, 7, 8, 9, 11) 2 {8, 5}\n",
      "(0, 3, 5, 6, 7, 8, 10, 11) 3 {8, 10, 5}\n",
      "(0, 3, 5, 6, 7, 9, 10, 11) 2 {10, 5}\n",
      "(0, 3, 5, 6, 8, 9, 10, 11) 3 {8, 10, 5}\n",
      "(0, 3, 5, 7, 8, 9, 10, 11) 3 {8, 10, 5}\n",
      "(0, 3, 6, 7, 8, 9, 10, 11) 2 {8, 10}\n",
      "(0, 4, 5, 6, 7, 8, 9, 10) 4 {8, 10, 4, 5}\n",
      "(0, 4, 5, 6, 7, 8, 9, 11) 3 {8, 4, 5}\n",
      "(0, 4, 5, 6, 7, 8, 10, 11) 4 {8, 10, 4, 5}\n",
      "(0, 4, 5, 6, 7, 9, 10, 11) 3 {10, 4, 5}\n",
      "(0, 4, 5, 6, 8, 9, 10, 11) 4 {8, 10, 4, 5}\n",
      "(0, 4, 5, 7, 8, 9, 10, 11) 4 {8, 10, 4, 5}\n",
      "(0, 4, 6, 7, 8, 9, 10, 11) 3 {8, 10, 4}\n",
      "(0, 5, 6, 7, 8, 9, 10, 11) 3 {8, 10, 5}\n",
      "(1, 2, 3, 4, 5, 6, 7, 8) 3 {8, 4, 5}\n",
      "(1, 2, 3, 4, 5, 6, 7, 9) 2 {4, 5}\n",
      "(1, 2, 3, 4, 5, 6, 7, 10) 3 {10, 4, 5}\n",
      "(1, 2, 3, 4, 5, 6, 7, 11) 2 {4, 5}\n",
      "(1, 2, 3, 4, 5, 6, 8, 9) 3 {8, 4, 5}\n",
      "(1, 2, 3, 4, 5, 6, 8, 10) 4 {8, 10, 4, 5}\n",
      "(1, 2, 3, 4, 5, 6, 8, 11) 3 {8, 4, 5}\n",
      "(1, 2, 3, 4, 5, 6, 9, 10) 3 {10, 4, 5}\n",
      "(1, 2, 3, 4, 5, 6, 9, 11) 2 {4, 5}\n",
      "(1, 2, 3, 4, 5, 6, 10, 11) 3 {10, 4, 5}\n",
      "(1, 2, 3, 4, 5, 7, 8, 9) 3 {8, 4, 5}\n",
      "(1, 2, 3, 4, 5, 7, 8, 10) 4 {8, 10, 4, 5}\n",
      "(1, 2, 3, 4, 5, 7, 8, 11) 3 {8, 4, 5}\n",
      "(1, 2, 3, 4, 5, 7, 9, 10) 3 {10, 4, 5}\n",
      "(1, 2, 3, 4, 5, 7, 9, 11) 2 {4, 5}\n",
      "(1, 2, 3, 4, 5, 7, 10, 11) 3 {10, 4, 5}\n",
      "(1, 2, 3, 4, 5, 8, 9, 10) 4 {8, 10, 4, 5}\n",
      "(1, 2, 3, 4, 5, 8, 9, 11) 3 {8, 4, 5}\n",
      "(1, 2, 3, 4, 5, 8, 10, 11) 4 {8, 10, 4, 5}\n",
      "(1, 2, 3, 4, 5, 9, 10, 11) 3 {10, 4, 5}\n",
      "(1, 2, 3, 4, 6, 7, 8, 9) 2 {8, 4}\n",
      "(1, 2, 3, 4, 6, 7, 8, 10) 3 {8, 10, 4}\n",
      "(1, 2, 3, 4, 6, 7, 8, 11) 2 {8, 4}\n",
      "(1, 2, 3, 4, 6, 7, 9, 10) 2 {10, 4}\n",
      "(1, 2, 3, 4, 6, 7, 9, 11) 1 {4}\n",
      "(1, 2, 3, 4, 6, 7, 10, 11) 2 {10, 4}\n",
      "(1, 2, 3, 4, 6, 8, 9, 10) 3 {8, 10, 4}\n",
      "(1, 2, 3, 4, 6, 8, 9, 11) 2 {8, 4}\n",
      "(1, 2, 3, 4, 6, 8, 10, 11) 3 {8, 10, 4}\n",
      "(1, 2, 3, 4, 6, 9, 10, 11) 2 {10, 4}\n",
      "(1, 2, 3, 4, 7, 8, 9, 10) 3 {8, 10, 4}\n",
      "(1, 2, 3, 4, 7, 8, 9, 11) 2 {8, 4}\n",
      "(1, 2, 3, 4, 7, 8, 10, 11) 3 {8, 10, 4}\n",
      "(1, 2, 3, 4, 7, 9, 10, 11) 2 {10, 4}\n",
      "(1, 2, 3, 4, 8, 9, 10, 11) 3 {8, 10, 4}\n",
      "(1, 2, 3, 5, 6, 7, 8, 9) 2 {8, 5}\n",
      "(1, 2, 3, 5, 6, 7, 8, 10) 3 {8, 10, 5}\n",
      "(1, 2, 3, 5, 6, 7, 8, 11) 2 {8, 5}\n",
      "(1, 2, 3, 5, 6, 7, 9, 10) 2 {10, 5}\n",
      "(1, 2, 3, 5, 6, 7, 9, 11) 1 {5}\n",
      "(1, 2, 3, 5, 6, 7, 10, 11) 2 {10, 5}\n",
      "(1, 2, 3, 5, 6, 8, 9, 10) 3 {8, 10, 5}\n",
      "(1, 2, 3, 5, 6, 8, 9, 11) 2 {8, 5}\n",
      "(1, 2, 3, 5, 6, 8, 10, 11) 3 {8, 10, 5}\n",
      "(1, 2, 3, 5, 6, 9, 10, 11) 2 {10, 5}\n",
      "(1, 2, 3, 5, 7, 8, 9, 10) 3 {8, 10, 5}\n",
      "(1, 2, 3, 5, 7, 8, 9, 11) 2 {8, 5}\n",
      "(1, 2, 3, 5, 7, 8, 10, 11) 3 {8, 10, 5}\n",
      "(1, 2, 3, 5, 7, 9, 10, 11) 2 {10, 5}\n",
      "(1, 2, 3, 5, 8, 9, 10, 11) 3 {8, 10, 5}\n",
      "(1, 2, 3, 6, 7, 8, 9, 10) 2 {8, 10}\n",
      "(1, 2, 3, 6, 7, 8, 9, 11) 1 {8}\n",
      "(1, 2, 3, 6, 7, 8, 10, 11) 2 {8, 10}\n",
      "(1, 2, 3, 6, 7, 9, 10, 11) 1 {10}\n",
      "(1, 2, 3, 6, 8, 9, 10, 11) 2 {8, 10}\n",
      "(1, 2, 3, 7, 8, 9, 10, 11) 2 {8, 10}\n",
      "(1, 2, 4, 5, 6, 7, 8, 9) 3 {8, 4, 5}\n",
      "(1, 2, 4, 5, 6, 7, 8, 10) 4 {8, 10, 4, 5}\n",
      "(1, 2, 4, 5, 6, 7, 8, 11) 3 {8, 4, 5}\n",
      "(1, 2, 4, 5, 6, 7, 9, 10) 3 {10, 4, 5}\n",
      "(1, 2, 4, 5, 6, 7, 9, 11) 2 {4, 5}\n",
      "(1, 2, 4, 5, 6, 7, 10, 11) 3 {10, 4, 5}\n",
      "(1, 2, 4, 5, 6, 8, 9, 10) 4 {8, 10, 4, 5}\n",
      "(1, 2, 4, 5, 6, 8, 9, 11) 3 {8, 4, 5}\n",
      "(1, 2, 4, 5, 6, 8, 10, 11) 4 {8, 10, 4, 5}\n",
      "(1, 2, 4, 5, 6, 9, 10, 11) 3 {10, 4, 5}\n",
      "(1, 2, 4, 5, 7, 8, 9, 10) 4 {8, 10, 4, 5}\n",
      "(1, 2, 4, 5, 7, 8, 9, 11) 3 {8, 4, 5}\n",
      "(1, 2, 4, 5, 7, 8, 10, 11) 4 {8, 10, 4, 5}\n",
      "(1, 2, 4, 5, 7, 9, 10, 11) 3 {10, 4, 5}\n",
      "(1, 2, 4, 5, 8, 9, 10, 11) 4 {8, 10, 4, 5}\n",
      "(1, 2, 4, 6, 7, 8, 9, 10) 3 {8, 10, 4}\n",
      "(1, 2, 4, 6, 7, 8, 9, 11) 2 {8, 4}\n",
      "(1, 2, 4, 6, 7, 8, 10, 11) 3 {8, 10, 4}\n",
      "(1, 2, 4, 6, 7, 9, 10, 11) 2 {10, 4}\n",
      "(1, 2, 4, 6, 8, 9, 10, 11) 3 {8, 10, 4}\n",
      "(1, 2, 4, 7, 8, 9, 10, 11) 3 {8, 10, 4}\n",
      "(1, 2, 5, 6, 7, 8, 9, 10) 3 {8, 10, 5}\n",
      "(1, 2, 5, 6, 7, 8, 9, 11) 2 {8, 5}\n",
      "(1, 2, 5, 6, 7, 8, 10, 11) 3 {8, 10, 5}\n",
      "(1, 2, 5, 6, 7, 9, 10, 11) 2 {10, 5}\n",
      "(1, 2, 5, 6, 8, 9, 10, 11) 3 {8, 10, 5}\n",
      "(1, 2, 5, 7, 8, 9, 10, 11) 3 {8, 10, 5}\n",
      "(1, 2, 6, 7, 8, 9, 10, 11) 2 {8, 10}\n",
      "(1, 3, 4, 5, 6, 7, 8, 9) 3 {8, 4, 5}\n",
      "(1, 3, 4, 5, 6, 7, 8, 10) 4 {8, 10, 4, 5}\n",
      "(1, 3, 4, 5, 6, 7, 8, 11) 3 {8, 4, 5}\n",
      "(1, 3, 4, 5, 6, 7, 9, 10) 3 {10, 4, 5}\n",
      "(1, 3, 4, 5, 6, 7, 9, 11) 2 {4, 5}\n",
      "(1, 3, 4, 5, 6, 7, 10, 11) 3 {10, 4, 5}\n",
      "(1, 3, 4, 5, 6, 8, 9, 10) 4 {8, 10, 4, 5}\n",
      "(1, 3, 4, 5, 6, 8, 9, 11) 3 {8, 4, 5}\n",
      "(1, 3, 4, 5, 6, 8, 10, 11) 4 {8, 10, 4, 5}\n",
      "(1, 3, 4, 5, 6, 9, 10, 11) 3 {10, 4, 5}\n",
      "(1, 3, 4, 5, 7, 8, 9, 10) 4 {8, 10, 4, 5}\n",
      "(1, 3, 4, 5, 7, 8, 9, 11) 3 {8, 4, 5}\n",
      "(1, 3, 4, 5, 7, 8, 10, 11) 4 {8, 10, 4, 5}\n",
      "(1, 3, 4, 5, 7, 9, 10, 11) 3 {10, 4, 5}\n",
      "(1, 3, 4, 5, 8, 9, 10, 11) 4 {8, 10, 4, 5}\n",
      "(1, 3, 4, 6, 7, 8, 9, 10) 3 {8, 10, 4}\n",
      "(1, 3, 4, 6, 7, 8, 9, 11) 2 {8, 4}\n",
      "(1, 3, 4, 6, 7, 8, 10, 11) 3 {8, 10, 4}\n",
      "(1, 3, 4, 6, 7, 9, 10, 11) 2 {10, 4}\n",
      "(1, 3, 4, 6, 8, 9, 10, 11) 3 {8, 10, 4}\n",
      "(1, 3, 4, 7, 8, 9, 10, 11) 3 {8, 10, 4}\n",
      "(1, 3, 5, 6, 7, 8, 9, 10) 3 {8, 10, 5}\n",
      "(1, 3, 5, 6, 7, 8, 9, 11) 2 {8, 5}\n",
      "(1, 3, 5, 6, 7, 8, 10, 11) 3 {8, 10, 5}\n",
      "(1, 3, 5, 6, 7, 9, 10, 11) 2 {10, 5}\n",
      "(1, 3, 5, 6, 8, 9, 10, 11) 3 {8, 10, 5}\n",
      "(1, 3, 5, 7, 8, 9, 10, 11) 3 {8, 10, 5}\n",
      "(1, 3, 6, 7, 8, 9, 10, 11) 2 {8, 10}\n",
      "(1, 4, 5, 6, 7, 8, 9, 10) 4 {8, 10, 4, 5}\n",
      "(1, 4, 5, 6, 7, 8, 9, 11) 3 {8, 4, 5}\n",
      "(1, 4, 5, 6, 7, 8, 10, 11) 4 {8, 10, 4, 5}\n",
      "(1, 4, 5, 6, 7, 9, 10, 11) 3 {10, 4, 5}\n",
      "(1, 4, 5, 6, 8, 9, 10, 11) 4 {8, 10, 4, 5}\n",
      "(1, 4, 5, 7, 8, 9, 10, 11) 4 {8, 10, 4, 5}\n",
      "(1, 4, 6, 7, 8, 9, 10, 11) 3 {8, 10, 4}\n",
      "(1, 5, 6, 7, 8, 9, 10, 11) 3 {8, 10, 5}\n",
      "(2, 3, 4, 5, 6, 7, 8, 9) 3 {8, 4, 5}\n",
      "(2, 3, 4, 5, 6, 7, 8, 10) 4 {8, 10, 4, 5}\n",
      "(2, 3, 4, 5, 6, 7, 8, 11) 3 {8, 4, 5}\n",
      "(2, 3, 4, 5, 6, 7, 9, 10) 3 {10, 4, 5}\n",
      "(2, 3, 4, 5, 6, 7, 9, 11) 2 {4, 5}\n",
      "(2, 3, 4, 5, 6, 7, 10, 11) 3 {10, 4, 5}\n",
      "(2, 3, 4, 5, 6, 8, 9, 10) 4 {8, 10, 4, 5}\n",
      "(2, 3, 4, 5, 6, 8, 9, 11) 3 {8, 4, 5}\n",
      "(2, 3, 4, 5, 6, 8, 10, 11) 4 {8, 10, 4, 5}\n",
      "(2, 3, 4, 5, 6, 9, 10, 11) 3 {10, 4, 5}\n",
      "(2, 3, 4, 5, 7, 8, 9, 10) 4 {8, 10, 4, 5}\n",
      "(2, 3, 4, 5, 7, 8, 9, 11) 3 {8, 4, 5}\n",
      "(2, 3, 4, 5, 7, 8, 10, 11) 4 {8, 10, 4, 5}\n",
      "(2, 3, 4, 5, 7, 9, 10, 11) 3 {10, 4, 5}\n",
      "(2, 3, 4, 5, 8, 9, 10, 11) 4 {8, 10, 4, 5}\n",
      "(2, 3, 4, 6, 7, 8, 9, 10) 3 {8, 10, 4}\n",
      "(2, 3, 4, 6, 7, 8, 9, 11) 2 {8, 4}\n",
      "(2, 3, 4, 6, 7, 8, 10, 11) 3 {8, 10, 4}\n",
      "(2, 3, 4, 6, 7, 9, 10, 11) 2 {10, 4}\n",
      "(2, 3, 4, 6, 8, 9, 10, 11) 3 {8, 10, 4}\n",
      "(2, 3, 4, 7, 8, 9, 10, 11) 3 {8, 10, 4}\n",
      "(2, 3, 5, 6, 7, 8, 9, 10) 3 {8, 10, 5}\n",
      "(2, 3, 5, 6, 7, 8, 9, 11) 2 {8, 5}\n",
      "(2, 3, 5, 6, 7, 8, 10, 11) 3 {8, 10, 5}\n",
      "(2, 3, 5, 6, 7, 9, 10, 11) 2 {10, 5}\n",
      "(2, 3, 5, 6, 8, 9, 10, 11) 3 {8, 10, 5}\n",
      "(2, 3, 5, 7, 8, 9, 10, 11) 3 {8, 10, 5}\n",
      "(2, 3, 6, 7, 8, 9, 10, 11) 2 {8, 10}\n",
      "(2, 4, 5, 6, 7, 8, 9, 10) 4 {8, 10, 4, 5}\n",
      "(2, 4, 5, 6, 7, 8, 9, 11) 3 {8, 4, 5}\n",
      "(2, 4, 5, 6, 7, 8, 10, 11) 4 {8, 10, 4, 5}\n",
      "(2, 4, 5, 6, 7, 9, 10, 11) 3 {10, 4, 5}\n",
      "(2, 4, 5, 6, 8, 9, 10, 11) 4 {8, 10, 4, 5}\n",
      "(2, 4, 5, 7, 8, 9, 10, 11) 4 {8, 10, 4, 5}\n",
      "(2, 4, 6, 7, 8, 9, 10, 11) 3 {8, 10, 4}\n",
      "(2, 5, 6, 7, 8, 9, 10, 11) 3 {8, 10, 5}\n",
      "(3, 4, 5, 6, 7, 8, 9, 10) 4 {8, 10, 4, 5}\n",
      "(3, 4, 5, 6, 7, 8, 9, 11) 3 {8, 4, 5}\n",
      "(3, 4, 5, 6, 7, 8, 10, 11) 4 {8, 10, 4, 5}\n",
      "(3, 4, 5, 6, 7, 9, 10, 11) 3 {10, 4, 5}\n",
      "(3, 4, 5, 6, 8, 9, 10, 11) 4 {8, 10, 4, 5}\n",
      "(3, 4, 5, 7, 8, 9, 10, 11) 4 {8, 10, 4, 5}\n",
      "(3, 4, 6, 7, 8, 9, 10, 11) 3 {8, 10, 4}\n",
      "(3, 5, 6, 7, 8, 9, 10, 11) 3 {8, 10, 5}\n",
      "(4, 5, 6, 7, 8, 9, 10, 11) 4 {8, 10, 4, 5}\n"
     ]
    }
   ],
   "source": [
    "# The cup labels.\n",
    "labels = list(range(no_cups))\n",
    "\n",
    "# Show.\n",
    "labels\n",
    "\n",
    "[0, 1, 2, 3, 4, 5, 6, 7, 8, 9, 10, 11]\n",
    "\n",
    "# Show the different ways of selecting no_cups_milk_first out of no_cups cups of tea.\n",
    "combs = list(itertools.combinations(labels, no_cups_milk_first))\n",
    "\n",
    "\n",
    "# Select four cups at random to put milk in first.\n",
    "# https://docs.python.org/3/library/random.html#random.sample\n",
    "labels_milk = random.sample(labels, 4)\n",
    "\n",
    "# Sort, inplace.\n",
    "labels_milk.sort()\n",
    "\n",
    "# Show.\n",
    "labels_milk\n",
    "\n",
    "# Turn labels_milk into a set.\n",
    "# Uses: https://docs.python.org/3/tutorial/datastructures.html#sets\n",
    "set(labels_milk)\n",
    "\n",
    "# Calculate the overlap between each element of combs and labels_milk.\n",
    "\n",
    "no_overlaps = []\n",
    "\n",
    "# Loop through the combinations.\n",
    "for comb in combs:\n",
    "  # Turn comb into a set.\n",
    "  s1 = set(comb)\n",
    "  # Turn labels_milk into a set.\n",
    "  s2 = set(labels_milk)\n",
    "  # Figure out where they overlap.\n",
    "  overlap = s1.intersection(s2)\n",
    "  # Show the combination and the overlap.\n",
    "  print(comb, len(overlap), overlap)\n",
    "  # Append overlap to no_overlaps.\n",
    "  no_overlaps.append(len(overlap))\n",
    "\n"
   ]
  },
  {
   "cell_type": "code",
   "execution_count": 94,
   "id": "32078d98",
   "metadata": {},
   "outputs": [
    {
     "data": {
      "text/plain": [
       "(array([0, 1, 2, 3, 4]), array([  1,  32, 168, 224,  70], dtype=int64))"
      ]
     },
     "execution_count": 94,
     "metadata": {},
     "output_type": "execute_result"
    }
   ],
   "source": [
    "# Count the number of times each overlap occurs.\n",
    "counts = np.unique(no_overlaps, return_counts=True)\n",
    "\n",
    "# Show.\n",
    "counts\n",
    "\n"
   ]
  },
  {
   "cell_type": "code",
   "execution_count": 95,
   "id": "e8518fe6",
   "metadata": {},
   "outputs": [
    {
     "data": {
      "image/png": "[encoded data removed]",
      "text/plain": [
       "<Figure size 600x400 with 1 Axes>"
      ]
     },
     "metadata": {},
     "output_type": "display_data"
    }
   ],
   "source": [
    "# Create a figure.\n",
    "fig, ax = plt.subplots(figsize=(6, 4))\n",
    "\n",
    "# Bar chart.\n",
    "ax.bar(counts[0], counts[1]);"
   ]
  },
  {
   "cell_type": "markdown",
   "id": "70280d91",
   "metadata": {},
   "source": [
    "So the lady has a 1 in 495 chance of selecting the milk first tea by chance. So what is that probability?"
   ]
  },
  {
   "cell_type": "code",
   "execution_count": 96,
   "id": "47a1c912",
   "metadata": {},
   "outputs": [
    {
     "data": {
      "text/plain": [
       "0.00202020202020202"
      ]
     },
     "execution_count": 96,
     "metadata": {},
     "output_type": "execute_result"
    }
   ],
   "source": [
    "1/495"
   ]
  },
  {
   "cell_type": "markdown",
   "id": "328d1e83",
   "metadata": {},
   "source": [
    "So the chance of selecting the correct cups at random looks pretty low. So my hypothesis is that the lady can tell if the tea is poured before the milk is.\n",
    "\n",
    "Let's now test this hypothesis. \n",
    "\n",
    "The Null hypothesis is:\n",
    "The lady is guessing. She can't tell.\n",
    "\n",
    "But I don't think she's guessing. So I'm going to put forwards an alternative hypothesis:\n",
    "The lady knows her tea. She is not selecting the cups at random and making lucky guesses."
   ]
  },
  {
   "cell_type": "markdown",
   "id": "4fa3b468",
   "metadata": {},
   "source": [
    "## Problem 2: "
   ]
  },
  {
   "cell_type": "markdown",
   "id": "c3cdf2c2",
   "metadata": {},
   "source": [
    "This task demonstrates the distinction between sample standard deviation (unbiased estimator) and population standard deviation (biased but lower variance). We generate a very large number of small samples (100,000 samples of size 10) from a standard normal distribution. For each, we calculate the standard deviation using two different definitions:\n",
    "\n",
    "ddof=0: divides by n, appropriate for a full population.\n",
    "\n",
    "ddof=1: divides by n-1, correcting bias when estimating from a sample.\n",
    "\n",
    "We then plot histograms of these results on the same axes, using transparency to highlight differences. The visualization should reveal a small but systematic shift between the two. We conclude by discussing how increasing the sample size would shrink this difference, illustrating the consistency of estimators."
   ]
  },
  {
   "cell_type": "markdown",
   "id": "02393dd7",
   "metadata": {},
   "source": [
    "Here I’m using the binomial function to simulate flipping a coin. First, I try flipping it once to see if I get heads or tails. Then I flip it 1,000 times and list them as 0s for tails and 1s for heads. Finally, I add them up to find out how many heads I got overall. It’s a simple way to see how the binomial distribution works with repeated coin flips."
   ]
  },
  {
   "cell_type": "code",
   "execution_count": 97,
   "id": "5fd14234",
   "metadata": {},
   "outputs": [],
   "source": [
    "\n",
    "# Binomial distribution.\n",
    "import numpy as np\n",
    "\n",
    "# Plotting.\n",
    "import matplotlib.pyplot as plt\n",
    "\n",
    "# Statistics.\n",
    "import scipy.stats as stats\n",
    "\n",
    "# Statistical models.\n",
    "import statsmodels as sm\n"
   ]
  },
  {
   "cell_type": "markdown",
   "id": "77640240",
   "metadata": {},
   "source": [
    "Flipping a coin once:\n",
    "The binomial function flips the coin once (1 trial) with a 50% chance of landing on heads (0.5), and returns either 0 for tails or 1 for heads."
   ]
  },
  {
   "cell_type": "code",
   "execution_count": 98,
   "id": "5be6965d",
   "metadata": {},
   "outputs": [
    {
     "data": {
      "text/plain": [
       "0"
      ]
     },
     "execution_count": 98,
     "metadata": {},
     "output_type": "execute_result"
    }
   ],
   "source": [
    "# Flip a single fair coin.\n",
    "np.random.binomial(1, 0.5)\n"
   ]
  },
  {
   "cell_type": "markdown",
   "id": "b904e89c",
   "metadata": {},
   "source": [
    "Here this line simulates 4 coin flips with a 50% chance of heads and returns the total number of heads obtained."
   ]
  },
  {
   "cell_type": "code",
   "execution_count": 99,
   "id": "42fb1af3",
   "metadata": {},
   "outputs": [
    {
     "data": {
      "text/plain": [
       "3"
      ]
     },
     "execution_count": 99,
     "metadata": {},
     "output_type": "execute_result"
    }
   ],
   "source": [
    "np.random.binomial(4,.5)"
   ]
  },
  {
   "cell_type": "markdown",
   "id": "6494c947",
   "metadata": {},
   "source": [
    "Flipping a coin 1000 times:\n",
    "Simulating 1,000 coin flips with a 50% chance of heads and stores the results (0s and 1s) in an array."
   ]
  },
  {
   "cell_type": "code",
   "execution_count": 107,
   "id": "a125331b",
   "metadata": {},
   "outputs": [
    {
     "data": {
      "text/plain": [
       "array([0, 1, 1, 0, 0, 0, 0, 1, 0, 1, 1, 1, 0, 0, 0, 0, 1, 0, 0, 1, 0, 1,\n",
       "       1, 0, 0, 1, 1, 1, 1, 0, 1, 0, 0, 0, 0, 1, 0, 0, 1, 1, 1, 1, 0, 1,\n",
       "       1, 1, 0, 1, 1, 0, 0, 1, 0, 1, 0, 0, 0, 1, 1, 0, 0, 0, 0, 1, 1, 1,\n",
       "       0, 0, 1, 0, 0, 0, 1, 1, 0, 0, 0, 0, 0, 0, 1, 1, 1, 1, 0, 0, 1, 1,\n",
       "       0, 0, 0, 1, 0, 0, 0, 1, 0, 0, 0, 1, 1, 0, 0, 0, 1, 1, 0, 1, 0, 0,\n",
       "       0, 0, 1, 1, 0, 1, 1, 1, 0, 1, 1, 0, 0, 0, 0, 1, 1, 1, 0, 1, 0, 1,\n",
       "       1, 0, 0, 0, 0, 0, 1, 0, 0, 1, 1, 0, 1, 0, 1, 1, 1, 0, 1, 0, 0, 0,\n",
       "       0, 1, 0, 1, 0, 0, 0, 0, 1, 0, 1, 0, 0, 1, 0, 0, 0, 1, 0, 0, 1, 1,\n",
       "       0, 1, 1, 0, 1, 1, 0, 0, 0, 0, 1, 1, 1, 0, 0, 0, 0, 1, 1, 1, 1, 0,\n",
       "       1, 1, 1, 1, 0, 1, 0, 0, 0, 1, 0, 1, 0, 1, 1, 0, 1, 0, 0, 1, 0, 0,\n",
       "       0, 0, 0, 0, 0, 0, 1, 1, 1, 1, 0, 1, 1, 0, 0, 0, 1, 1, 1, 0, 1, 0,\n",
       "       0, 0, 1, 0, 1, 1, 0, 0, 1, 0, 0, 1, 1, 0, 1, 0, 0, 1, 0, 1, 0, 1,\n",
       "       1, 0, 0, 1, 0, 1, 1, 1, 0, 0, 0, 0, 0, 1, 0, 0, 1, 0, 1, 0, 1, 1,\n",
       "       0, 1, 0, 1, 0, 1, 0, 0, 0, 0, 0, 0, 1, 1, 1, 1, 1, 0, 0, 1, 1, 0,\n",
       "       0, 1, 1, 0, 0, 1, 1, 1, 1, 1, 1, 0, 1, 0, 1, 1, 0, 1, 0, 0, 1, 1,\n",
       "       0, 0, 1, 0, 1, 0, 0, 1, 1, 1, 1, 0, 0, 0, 0, 0, 1, 0, 1, 0, 1, 0,\n",
       "       1, 0, 1, 0, 0, 0, 1, 0, 1, 1, 1, 0, 1, 1, 0, 1, 1, 1, 1, 1, 0, 1,\n",
       "       0, 0, 1, 0, 0, 1, 1, 0, 1, 1, 1, 1, 0, 1, 1, 1, 1, 0, 1, 1, 0, 0,\n",
       "       1, 1, 1, 1, 0, 0, 0, 0, 0, 0, 1, 1, 1, 1, 1, 0, 0, 1, 0, 1, 0, 0,\n",
       "       1, 0, 1, 1, 1, 1, 0, 0, 1, 0, 1, 1, 1, 0, 1, 1, 0, 0, 1, 1, 0, 0,\n",
       "       1, 1, 1, 1, 0, 0, 1, 1, 1, 1, 1, 0, 1, 1, 1, 0, 1, 0, 0, 0, 1, 0,\n",
       "       1, 0, 1, 1, 0, 1, 1, 0, 0, 1, 1, 0, 1, 1, 1, 0, 1, 1, 0, 1, 1, 1,\n",
       "       1, 0, 1, 0, 0, 0, 1, 1, 1, 1, 1, 1, 0, 0, 1, 1, 0, 0, 0, 1, 1, 0,\n",
       "       1, 1, 1, 0, 0, 1, 0, 0, 0, 1, 1, 0, 0, 1, 0, 1, 1, 1, 1, 1, 0, 1,\n",
       "       1, 0, 1, 1, 1, 1, 0, 0, 1, 0, 0, 0, 1, 0, 0, 1, 0, 0, 1, 0, 0, 0,\n",
       "       0, 1, 0, 1, 0, 1, 1, 0, 0, 1, 0, 1, 0, 0, 1, 1, 1, 1, 0, 0, 0, 0,\n",
       "       0, 1, 1, 0, 0, 1, 1, 0, 1, 1, 1, 0, 0, 0, 0, 0, 0, 1, 0, 0, 0, 1,\n",
       "       0, 1, 0, 0, 0, 0, 1, 0, 0, 1, 1, 1, 1, 0, 1, 0, 0, 0, 0, 0, 0, 0,\n",
       "       1, 0, 1, 1, 1, 1, 0, 1, 1, 1, 0, 1, 1, 1, 1, 1, 1, 1, 1, 0, 1, 0,\n",
       "       0, 0, 1, 0, 1, 1, 0, 0, 0, 0, 1, 1, 0, 0, 1, 1, 0, 1, 1, 0, 0, 1,\n",
       "       0, 1, 0, 1, 1, 0, 0, 1, 0, 1, 1, 1, 1, 1, 0, 0, 1, 0, 1, 0, 0, 1,\n",
       "       0, 1, 0, 0, 1, 1, 0, 0, 1, 0, 1, 0, 0, 1, 0, 0, 0, 0, 1, 1, 1, 0,\n",
       "       0, 0, 0, 0, 0, 1, 1, 0, 0, 0, 0, 0, 1, 1, 0, 1, 0, 1, 0, 1, 1, 0,\n",
       "       0, 1, 0, 0, 0, 1, 0, 1, 0, 0, 0, 0, 0, 0, 0, 1, 1, 1, 1, 1, 0, 0,\n",
       "       1, 1, 0, 0, 1, 0, 1, 1, 0, 1, 1, 1, 0, 0, 1, 0, 1, 1, 0, 0, 1, 1,\n",
       "       1, 1, 0, 0, 1, 0, 0, 1, 0, 1, 0, 0, 1, 0, 1, 1, 1, 0, 0, 0, 0, 1,\n",
       "       0, 0, 1, 1, 1, 1, 1, 1, 1, 0, 0, 1, 0, 1, 0, 1, 1, 1, 0, 1, 0, 1,\n",
       "       1, 1, 1, 1, 0, 0, 0, 0, 1, 0, 0, 0, 0, 0, 1, 1, 0, 1, 1, 1, 1, 0,\n",
       "       1, 0, 0, 0, 0, 0, 0, 0, 0, 1, 1, 1, 0, 1, 1, 1, 0, 0, 1, 1, 1, 1,\n",
       "       1, 1, 1, 0, 0, 1, 0, 0, 1, 0, 0, 1, 1, 0, 1, 0, 1, 0, 1, 1, 0, 0,\n",
       "       0, 0, 1, 1, 0, 0, 0, 0, 1, 1, 1, 0, 1, 0, 1, 1, 0, 0, 0, 1, 1, 0,\n",
       "       0, 1, 0, 1, 1, 1, 0, 1, 0, 0, 0, 1, 0, 0, 0, 1, 0, 0, 1, 0, 1, 0,\n",
       "       0, 1, 0, 0, 1, 0, 0, 1, 0, 1, 0, 0, 0, 0, 0, 0, 0, 1, 1, 1, 0, 1,\n",
       "       1, 1, 1, 1, 1, 1, 1, 1, 1, 0, 1, 0, 1, 0, 1, 0, 0, 0, 0, 0, 1, 0,\n",
       "       1, 1, 0, 0, 0, 1, 0, 1, 1, 0, 1, 1, 1, 0, 0, 0, 0, 1, 0, 1, 0, 1,\n",
       "       0, 0, 0, 0, 0, 0, 1, 1, 1, 0])"
      ]
     },
     "execution_count": 107,
     "metadata": {},
     "output_type": "execute_result"
    }
   ],
   "source": [
    "# Flip a single coin several times.\n",
    "flips = np.random.binomial(1, 0.5, 1000)\n",
    "\n",
    "# Show.\n",
    "flips"
   ]
  },
  {
   "cell_type": "markdown",
   "id": "938b8817",
   "metadata": {},
   "source": [
    "This line counts the total number of heads by summing all the 1s in the array."
   ]
  },
  {
   "cell_type": "code",
   "execution_count": 108,
   "id": "e01a8518",
   "metadata": {},
   "outputs": [
    {
     "data": {
      "text/plain": [
       "490"
      ]
     },
     "execution_count": 108,
     "metadata": {},
     "output_type": "execute_result"
    }
   ],
   "source": [
    "\n",
    "\n",
    "# Count heads.\n",
    "heads = flips.sum()\n",
    "\n",
    "# Show.\n",
    "heads\n",
    "\n"
   ]
  },
  {
   "cell_type": "markdown",
   "id": "c1825396",
   "metadata": {},
   "source": [
    "Lets do this again but a different way:"
   ]
  },
  {
   "cell_type": "code",
   "execution_count": 102,
   "id": "073aa849",
   "metadata": {},
   "outputs": [
    {
     "data": {
      "text/plain": [
       "500"
      ]
     },
     "execution_count": 102,
     "metadata": {},
     "output_type": "execute_result"
    }
   ],
   "source": [
    "np.random.binomial(1000,.5)"
   ]
  },
  {
   "cell_type": "markdown",
   "id": "847d1ea3",
   "metadata": {},
   "source": [
    "We go straight to counting the heads. "
   ]
  },
  {
   "cell_type": "markdown",
   "id": "2c012a4e",
   "metadata": {},
   "source": [
    "The number always changes but stays in or around 500 which is expected. The higher the number of flips the closer this sum of heads would stay to the mid-point. "
   ]
  },
  {
   "cell_type": "markdown",
   "id": "f9fe873b",
   "metadata": {},
   "source": [
    "Lets do a bar chart."
   ]
  },
  {
   "cell_type": "code",
   "execution_count": 109,
   "id": "380b7bd6",
   "metadata": {},
   "outputs": [
    {
     "data": {
      "image/png": "[encoded data removed]",
      "text/plain": [
       "<Figure size 640x480 with 1 Axes>"
      ]
     },
     "metadata": {},
     "output_type": "display_data"
    }
   ],
   "source": [
    "# Create a blank plot.\n",
    "fig, ax = plt.subplots()\n",
    "\n",
    "# Create a bar chart.\n",
    "ax.bar([0, 1], [1000 - heads, heads])\n",
    "\n",
    "# Add x labels.\n",
    "ax.set_xticks([0, 1], labels=['Tails', 'Heads'])\n",
    "\n",
    "# Add title.\n",
    "ax.set_title('Flipping a coin 1000 times')\n",
    "\n",
    "# Add axis label.\n",
    "ax.set_ylabel('Count');"
   ]
  },
  {
   "cell_type": "markdown",
   "id": "41642407",
   "metadata": {},
   "source": [
    "Flipping 2 coins.\n",
    "How will flipping 2 coins change the outcome. We'll get continuous values. We'll get a normal distribution.\n",
    "\n",
    "One outcome - getting one head is twice as likely as the other 2 outcomes - zero heads or two heads.\n",
    "When you flip two coins, there are four equally likely outcomes: HH, HT, TH, and TT. Getting zero heads (TT) can only happen one way, and getting two heads (HH) can also only happen one way. But getting one head can happen in two different ways: HT or TH. Since each outcome has the same probability, the fact that there are more combinations leading to one head makes it more likely. In other words, you’re twice as likely to get exactly one head than to get either no heads or two heads, simply because there are twice as many ways for it to happen."
   ]
  },
  {
   "cell_type": "markdown",
   "id": "9f45aab6",
   "metadata": {},
   "source": [
    "## Problem 3:"
   ]
  },
  {
   "cell_type": "markdown",
   "id": "12ce501b",
   "metadata": {},
   "source": [
    "In this section, we investigate type II errors, which occur when a test fails to reject the null hypothesis despite there being a true difference. We systematically vary the mean difference (d) between two normal distributions, from 0 to 1.0 in steps of 0.1. For each value of d:\n",
    "\n",
    "Draw two samples of size 100 (one from N(0,1), the other from N(d,1)).\n",
    "\n",
    "Perform an independent two-sample t-test, using a 5% significance level.\n",
    "\n",
    "Repeat the process 1,000 times and record the proportion of times the null hypothesis was not rejected.\n",
    "\n",
    "We then plot type II error rates against effect size, showing the classic trade-off: small differences are harder to detect, while large differences result in low type II error. This simulation reinforces the importance of effect size and sample size in determining test power."
   ]
  },
  {
   "cell_type": "markdown",
   "id": "17591dd1",
   "metadata": {},
   "source": [
    "## Problem 4:"
   ]
  },
  {
   "cell_type": "markdown",
   "id": "67211b32",
   "metadata": {},
   "source": [
    "In this task, we simulate a classic comparison of statistical approaches for multiple group testing. We generate three independent samples (each size 30) from normal distributions with means 0, 0.5, and 1 (standard deviation fixed at 1). Two approaches are then applied:\n",
    "\n",
    "One-way ANOVA: tests the null hypothesis that all three group means are equal in a single, global test.\n",
    "\n",
    "Multiple independent t-tests: three pairwise comparisons (1 vs 2, 1 vs 3, 2 vs 3).\n",
    "\n",
    "We compare the results and discuss why ANOVA is typically preferred: it provides a unified test that controls type I error across multiple comparisons. Running several t-tests increases the risk of false positives (familywise error rate), making ANOVA more robust and interpretable for multi-group scenarios."
   ]
  },
  {
   "cell_type": "markdown",
   "id": "e7ba624b",
   "metadata": {},
   "source": [
    "# END"
   ]
  }
 ],
 "metadata": {
  "kernelspec": {
   "display_name": "base",
   "language": "python",
   "name": "python3"
  },
  "language_info": {
   "codemirror_mode": {
    "name": "ipython",
    "version": 3
   },
   "file_extension": ".py",
   "mimetype": "text/x-python",
   "name": "python",
   "nbconvert_exporter": "python",
   "pygments_lexer": "ipython3",
   "version": "3.12.4"
  }
 },
 "nbformat": 4,
 "nbformat_minor": 5
}
